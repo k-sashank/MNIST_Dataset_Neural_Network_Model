{
 "cells": [
  {
   "cell_type": "code",
   "execution_count": 1,
   "metadata": {},
   "outputs": [],
   "source": [
    "#Importing Required Libraries\n",
    "\n",
    "import tensorflow as tf\n",
    "import tensorflow.keras as keras\n",
    "import numpy as np\n",
    "import os\n",
    "import random\n",
    "import cv2\n",
    "from tensorflow.keras import layers\n",
    "from tensorflow.keras.optimizers import Adam\n",
    "from tensorflow.keras.utils import to_categorical\n",
    "import matplotlib.pyplot as plt\n",
    "%matplotlib inline"
   ]
  },
  {
   "cell_type": "code",
   "execution_count": 2,
   "metadata": {},
   "outputs": [],
   "source": [
    "tf.config.experimental_run_functions_eagerly(True)"
   ]
  },
  {
   "cell_type": "code",
   "execution_count": 3,
   "metadata": {},
   "outputs": [],
   "source": [
    "#Downloading and storing the MNIST Dataset\n",
    "\n",
    "a,b = tf.keras.datasets.mnist.load_data(path='mnist.npz')"
   ]
  },
  {
   "cell_type": "code",
   "execution_count": 4,
   "metadata": {},
   "outputs": [],
   "source": [
    "#Getting the train and test images and labels for each image\n",
    "train_X = a[0]\n",
    "train_y = a[1]\n",
    "test_X = b[0]\n",
    "test_y = b[1]"
   ]
  },
  {
   "cell_type": "code",
   "execution_count": 5,
   "metadata": {},
   "outputs": [
    {
     "name": "stdout",
     "output_type": "stream",
     "text": [
      "(60000, 28, 28)\n",
      "(60000,)\n",
      "(10000, 28, 28)\n",
      "(10000,)\n"
     ]
    }
   ],
   "source": [
    "#Printing shapes of the training and testing datasets\n",
    "\n",
    "print(train_X.shape)\n",
    "print(train_y.shape)\n",
    "print(test_X.shape)\n",
    "print(test_y.shape)"
   ]
  },
  {
   "cell_type": "code",
   "execution_count": 6,
   "metadata": {},
   "outputs": [
    {
     "name": "stdout",
     "output_type": "stream",
     "text": [
      "Index:  50693\n"
     ]
    },
    {
     "data": {
      "text/plain": [
       "<matplotlib.image.AxesImage at 0x16770191e88>"
      ]
     },
     "execution_count": 6,
     "metadata": {},
     "output_type": "execute_result"
    },
    {
     "data": {
      "image/png": "[encoded data removed]",
      "text/plain": [
       "<Figure size 432x288 with 1 Axes>"
      ]
     },
     "metadata": {
      "needs_background": "light"
     },
     "output_type": "display_data"
    }
   ],
   "source": [
    "#Printing a random image from training dataset along with its label as the title of th image(plot)\n",
    "ran = random.randint(0,60000)\n",
    "print(\"Index: \", ran)\n",
    "plt.title(train_y[ran])\n",
    "plt.imshow(train_X[ran])"
   ]
  },
  {
   "cell_type": "code",
   "execution_count": 7,
   "metadata": {},
   "outputs": [
    {
     "name": "stdout",
     "output_type": "stream",
     "text": [
      "Index:  54809\n"
     ]
    },
    {
     "data": {
      "text/plain": [
       "<matplotlib.image.AxesImage at 0x16773d87408>"
      ]
     },
     "execution_count": 7,
     "metadata": {},
     "output_type": "execute_result"
    },
    {
     "data": {
      "image/png": "[encoded data removed]",
      "text/plain": [
       "<Figure size 432x288 with 1 Axes>"
      ]
     },
     "metadata": {
      "needs_background": "light"
     },
     "output_type": "display_data"
    }
   ],
   "source": [
    "#Printing another random image from training dataset along with its label as the title of th image(plot)\n",
    "ran = random.randint(0,60000)\n",
    "print(\"Index: \", ran)\n",
    "plt.title(train_y[ran])\n",
    "plt.imshow(train_X[ran])"
   ]
  },
  {
   "cell_type": "code",
   "execution_count": 8,
   "metadata": {},
   "outputs": [
    {
     "name": "stdout",
     "output_type": "stream",
     "text": [
      "Index:  3388\n"
     ]
    },
    {
     "data": {
      "text/plain": [
       "<matplotlib.image.AxesImage at 0x16773dcd2c8>"
      ]
     },
     "execution_count": 8,
     "metadata": {},
     "output_type": "execute_result"
    },
    {
     "data": {
      "image/png": "[encoded data removed]",
      "text/plain": [
       "<Figure size 432x288 with 1 Axes>"
      ]
     },
     "metadata": {
      "needs_background": "light"
     },
     "output_type": "display_data"
    }
   ],
   "source": [
    "#Printing a random image from testing dataset along with its label as the title of th image(plot)\n",
    "ran = random.randint(0,10000)\n",
    "print(\"Index: \", ran)\n",
    "plt.title(test_y[ran])\n",
    "plt.imshow(test_X[ran])"
   ]
  },
  {
   "cell_type": "code",
   "execution_count": 9,
   "metadata": {},
   "outputs": [
    {
     "name": "stdout",
     "output_type": "stream",
     "text": [
      "Index:  2582\n"
     ]
    },
    {
     "data": {
      "text/plain": [
       "<matplotlib.image.AxesImage at 0x16773e5c708>"
      ]
     },
     "execution_count": 9,
     "metadata": {},
     "output_type": "execute_result"
    },
    {
     "data": {
      "image/png": "[encoded data removed]",
      "text/plain": [
       "<Figure size 432x288 with 1 Axes>"
      ]
     },
     "metadata": {
      "needs_background": "light"
     },
     "output_type": "display_data"
    }
   ],
   "source": [
    "#Printing another random image from testing dataset along with its label as the title of th image(plot)\n",
    "ran = random.randint(0,10000)\n",
    "print(\"Index: \", ran)\n",
    "plt.title(test_y[ran])\n",
    "plt.imshow(test_X[ran])"
   ]
  },
  {
   "cell_type": "code",
   "execution_count": 10,
   "metadata": {},
   "outputs": [],
   "source": [
    "#Initializing some model parameters\n",
    "num_of_pixels = 784\n",
    "num_of_classes = 10\n",
    "batch_size = 200\n",
    "epochs = 15"
   ]
  },
  {
   "cell_type": "code",
   "execution_count": 11,
   "metadata": {},
   "outputs": [
    {
     "name": "stdout",
     "output_type": "stream",
     "text": [
      "(60000, 784)\n",
      "(10000, 784)\n"
     ]
    }
   ],
   "source": [
    "#Reshaping the images from 28*28 arrays to a 784 vector for training and testing\n",
    "train_X_act = train_X.reshape(-1, 784)\n",
    "test_X_act = test_X.reshape(-1, 784)\n",
    "print(train_X_act.shape)\n",
    "print(test_X_act.shape)"
   ]
  },
  {
   "cell_type": "code",
   "execution_count": 12,
   "metadata": {},
   "outputs": [],
   "source": [
    "#One-Hot Encoding the target labels for training\n",
    "train_y_act = to_categorical(train_y, 10)\n",
    "test_y_act = to_categorical(test_y, 10)"
   ]
  },
  {
   "cell_type": "code",
   "execution_count": 13,
   "metadata": {},
   "outputs": [
    {
     "name": "stdout",
     "output_type": "stream",
     "text": [
      "Model: \"sequential\"\n",
      "_________________________________________________________________\n",
      "Layer (type)                 Output Shape              Param #   \n",
      "=================================================================\n",
      "dense (Dense)                (None, 10)                7850      \n",
      "_________________________________________________________________\n",
      "dense_1 (Dense)              (None, 20)                220       \n",
      "_________________________________________________________________\n",
      "dense_2 (Dense)              (None, 10)                210       \n",
      "_________________________________________________________________\n",
      "dense_3 (Dense)              (None, 10)                110       \n",
      "_________________________________________________________________\n",
      "dense_4 (Dense)              (None, 10)                110       \n",
      "=================================================================\n",
      "Total params: 8,500\n",
      "Trainable params: 8,500\n",
      "Non-trainable params: 0\n",
      "_________________________________________________________________\n"
     ]
    }
   ],
   "source": [
    "#Creating a Deep Learning model with 3 Dense Layers\n",
    "model = keras.Sequential(\n",
    "[\n",
    "    layers.Dense(10, input_shape = (784,), activation = 'relu'),\n",
    "    layers.Dense(20, activation = 'relu'),\n",
    "    layers.Dense(10, activation = 'relu'),\n",
    "    layers.Dense(10, activation = 'relu'),\n",
    "    layers.Dense(num_of_classes, activation = 'softmax'),\n",
    "]\n",
    ")\n",
    "model.summary()"
   ]
  },
  {
   "cell_type": "code",
   "execution_count": 14,
   "metadata": {},
   "outputs": [],
   "source": [
    "#If model exists, uncomment this and execute\n",
    "model = tf.keras.models.load_model('MNIST_Model.h5')"
   ]
  },
  {
   "cell_type": "code",
   "execution_count": 15,
   "metadata": {},
   "outputs": [],
   "source": [
    "#Else, uncomment these lines and run\n",
    "#model.compile(Adam(lr = 0.01), loss='categorical_crossentropy', metrics=['accuracy'])\n",
    "#history = model.fit(train_X_act, train_y_act, validation_split=0.1, epochs = epochs, batch_size = batch_size, verbose=1, shuffle=1)"
   ]
  },
  {
   "cell_type": "code",
   "execution_count": 16,
   "metadata": {},
   "outputs": [
    {
     "name": "stdout",
     "output_type": "stream",
     "text": [
      "50/50 [==============================] - 1s 13ms/step - loss: 0.4664 - accuracy: 0.8719\n",
      "Test Loss:  0.4664106070995331\n",
      "Test Accuracy 0.8719000220298767\n"
     ]
    }
   ],
   "source": [
    "#Testing the model using the test data\n",
    "result = model.evaluate(test_X_act, test_y_act, batch_size = batch_size)\n",
    "print(\"Test Loss: \", result[0])\n",
    "print(\"Test Accuracy\", result[1])"
   ]
  },
  {
   "cell_type": "code",
   "execution_count": 17,
   "metadata": {},
   "outputs": [],
   "source": [
    "#Saving the model\n",
    "model.save(\"MNIST_Model.h5\")"
   ]
  },
  {
   "cell_type": "code",
   "execution_count": 18,
   "metadata": {},
   "outputs": [
    {
     "name": "stdout",
     "output_type": "stream",
     "text": [
      "Prediction:  5\n"
     ]
    },
    {
     "data": {
      "image/png": "[encoded data removed]",
      "text/plain": [
       "<Figure size 432x288 with 1 Axes>"
      ]
     },
     "metadata": {
      "needs_background": "light"
     },
     "output_type": "display_data"
    }
   ],
   "source": [
    "#Checking the prediction of the model on a random picture from the test data\n",
    "ran = random.randint(0,10000)\n",
    "result = model.predict(test_X_act[ran].reshape(-1,784))\n",
    "plt.title(test_y[ran])\n",
    "plt.imshow(test_X[ran])\n",
    "result_temp = np.where(result == np.amax(result))\n",
    "print(\"Prediction: \", result_temp[1][0])"
   ]
  },
  {
   "cell_type": "code",
   "execution_count": 19,
   "metadata": {},
   "outputs": [
    {
     "name": "stdout",
     "output_type": "stream",
     "text": [
      "Prediction:  9\n"
     ]
    },
    {
     "data": {
      "image/png": "[encoded data removed]",
      "text/plain": [
       "<Figure size 432x288 with 1 Axes>"
      ]
     },
     "metadata": {
      "needs_background": "light"
     },
     "output_type": "display_data"
    }
   ],
   "source": [
    "#Checking the prediction of the model on a random picture from the test data\n",
    "ran = random.randint(0,10000)\n",
    "result = model.predict(test_X_act[ran].reshape(-1,784))\n",
    "plt.title(test_y[ran])\n",
    "plt.imshow(test_X[ran])\n",
    "result_temp = np.where(result == np.amax(result))\n",
    "print(\"Prediction: \", result_temp[1][0])"
   ]
  },
  {
   "cell_type": "code",
   "execution_count": 20,
   "metadata": {},
   "outputs": [
    {
     "name": "stdout",
     "output_type": "stream",
     "text": [
      "Prediction:  1\n"
     ]
    },
    {
     "data": {
      "image/png": "[encoded data removed]",
      "text/plain": [
       "<Figure size 432x288 with 1 Axes>"
      ]
     },
     "metadata": {
      "needs_background": "light"
     },
     "output_type": "display_data"
    }
   ],
   "source": [
    "#Checking the prediction of the model on a random picture from the test data\n",
    "ran = random.randint(0,10000)\n",
    "result = model.predict(test_X_act[ran].reshape(-1,784))\n",
    "plt.title(test_y[ran])\n",
    "plt.imshow(test_X[ran])\n",
    "result_temp = np.where(result == np.amax(result))\n",
    "print(\"Prediction: \", result_temp[1][0])"
   ]
  },
  {
   "cell_type": "code",
   "execution_count": 21,
   "metadata": {},
   "outputs": [
    {
     "name": "stdout",
     "output_type": "stream",
     "text": [
      "Prediction:  4\n"
     ]
    },
    {
     "data": {
      "image/png": "[encoded data removed]",
      "text/plain": [
       "<Figure size 432x288 with 1 Axes>"
      ]
     },
     "metadata": {
      "needs_background": "light"
     },
     "output_type": "display_data"
    }
   ],
   "source": [
    "#Checking the prediction of the model on a random picture from the test data\n",
    "ran = random.randint(0,10000)\n",
    "result = model.predict(test_X_act[ran].reshape(-1,784))\n",
    "plt.title(test_y[ran])\n",
    "plt.imshow(test_X[ran])\n",
    "result_temp = np.where(result == np.amax(result))\n",
    "print(\"Prediction: \", result_temp[1][0])"
   ]
  },
  {
   "cell_type": "code",
   "execution_count": 22,
   "metadata": {},
   "outputs": [
    {
     "name": "stdout",
     "output_type": "stream",
     "text": [
      "Prediction:  9\n"
     ]
    },
    {
     "data": {
      "image/png": "[encoded data removed]",
      "text/plain": [
       "<Figure size 432x288 with 1 Axes>"
      ]
     },
     "metadata": {
      "needs_background": "light"
     },
     "output_type": "display_data"
    }
   ],
   "source": [
    "#Checking the prediction of the model on a random picture from the test data\n",
    "ran = random.randint(0,10000)\n",
    "result = model.predict(test_X_act[ran].reshape(-1,784))\n",
    "plt.title(test_y[ran])\n",
    "plt.imshow(test_X[ran])\n",
    "result_temp = np.where(result == np.amax(result))\n",
    "print(\"Prediction: \", result_temp[1][0])"
   ]
  },
  {
   "cell_type": "code",
   "execution_count": null,
   "metadata": {},
   "outputs": [],
   "source": []
  }
 ],
 "metadata": {
  "kernelspec": {
   "display_name": "Python 3",
   "language": "python",
   "name": "python3"
  },
  "language_info": {
   "codemirror_mode": {
    "name": "ipython",
    "version": 3
   },
   "file_extension": ".py",
   "mimetype": "text/x-python",
   "name": "python",
   "nbconvert_exporter": "python",
   "pygments_lexer": "ipython3",
   "version": "3.7.6"
  }
 },
 "nbformat": 4,
 "nbformat_minor": 4
}
